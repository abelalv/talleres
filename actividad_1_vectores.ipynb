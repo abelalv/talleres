{
 "cells": [
  {
   "cell_type": "markdown",
   "id": "411baa3c",
   "metadata": {},
   "source": [
    "# Actividad Computacional Algebra Lineal\n",
    "\n",
    "\n",
    "Lea atentamente las siguientes instrucciones "
   ]
  },
  {
   "cell_type": "markdown",
   "id": "d63e8e86",
   "metadata": {},
   "source": [
    "\n",
    "Un repartidor de pizzas parte de la pizzería ubicada en el barrio **San Antonio** (tomaremos la pizzería como el origen $(0, 0)$). Debe entregar 3 pizzas en 3 casas ubicadas en **Comuna 3** y **San Cayetano**, que modelamos con puntos en el plano cartesiano:\n",
    "\n",
    "- $A = (1, 1)$  \n",
    "- $B = (2, 3)$  \n",
    "- $C = (3, 2)$  \n",
    "\n",
    "### Regla de la vía  \n",
    "\n",
    "El repartidor puede hacer un primer trayecto en línea recta desde la pizzería siguiendo un **corredor principal**, $\\mathcal{L}$, (por ejemplo, una avenida de buen flujo vehicular), y luego realizar **desvíos perpendiculares** a ese corredor para llegar a cada casa. No puede pasar por el mismo corredor dos veces.  \n",
    "\n",
    "El objetivo es minimizar el **tiempo total de entrega**, que supondremos proporcional a la distancia recorrida. En este caso, la constante de proporcionalidad es $k = 2$.\n",
    "\n",
    "\n",
    "## Modelación Geométrica  \n",
    "\n",
    "Por ejemplo, si el repartidor decide que el primer trayecto es entregar la pizza al punto $A = (1, 1)$, el **corredor principal** podría ser la línea recta que conecta el origen con $A$. Luego, deberá hacer desvíos perpendiculares a esa línea para llegar a los demás puntos.\n",
    "\n",
    "Esta idealización modela las calles locales como trayectos perpendiculares al corredor principal, permitiendo el uso de **proyecciones y ángulos** para analizar el problema.\n",
    "\n",
    "\n",
    "\n",
    "## Ejercicios  \n",
    "\n",
    "### 1. Análisis de códigos en Python  \n",
    "\n",
    "Observa las siguientes códigos, comenta qué hace cada una y cómo se relaciona con el problema del repartidor:"
   ]
  },
  {
   "cell_type": "code",
   "execution_count": null,
   "id": "fc4f0c74",
   "metadata": {},
   "outputs": [],
   "source": [
    "# Código 1\n",
    "import numpy as np\n",
    "a = np.array([1, 1])\n",
    "origen = np.array([0, 0])\n",
    "b = a - origen\n",
    "ds = np.linalg.norm(b)\n",
    "print(ds)\n"
   ]
  },
  {
   "cell_type": "code",
   "execution_count": null,
   "id": "6a6cb037",
   "metadata": {},
   "outputs": [],
   "source": [
    "# Código 2\n",
    "import numpy as np\n",
    "a = np.array([1, 1])\n",
    "b = np.array([2, 3])\n",
    "c = np.dot(a, b) / np.linalg.norm(b)**2 * b\n",
    "print(c)"
   ]
  },
  {
   "cell_type": "markdown",
   "id": "a26eea3f",
   "metadata": {},
   "source": [
    "### 2. Proyecciones y distancias  \n",
    "\n",
    "Supón que el repartidor decide ir primero al punto $A = (1, 1)$:\n",
    "\n",
    "- ¿Cuál es el corredor principal en este caso?\n",
    "- ¿Cómo se proyectan los otros puntos ($B$ y $C$) sobre ese corredor?\n",
    "- ¿Cuál es la distancia recorrida para llegar al primer punto?\n",
    "\n"
   ]
  },
  {
   "cell_type": "markdown",
   "id": "d38016d5",
   "metadata": {},
   "source": []
  },
  {
   "cell_type": "markdown",
   "id": "bff59e2a",
   "metadata": {},
   "source": [
    "\n",
    "### 3. Estrategia óptima  \n",
    "\n",
    "Escribe una estrategia para **minimizar el tiempo total de entrega**, considerando el uso de proyecciones ortogonales y evitando el paso repetido por el corredor principal.\n",
    "\n"
   ]
  },
  {
   "cell_type": "markdown",
   "id": "2caecf6c",
   "metadata": {},
   "source": []
  },
  {
   "cell_type": "markdown",
   "id": "0aa13c59",
   "metadata": {},
   "source": [
    "### 4. Ruta óptima y tiempo mínimo  \n",
    "\n",
    "Encuentra la **ruta óptima** y calcula el **tiempo mínimo de entrega** que necesita el repartidor para entregar las 4 pizzas, usando la constante $k = 2$. Para ello usa los códigos proporcionados y lleva a cabo tu estrategia."
   ]
  },
  {
   "cell_type": "markdown",
   "id": "1d067a71",
   "metadata": {},
   "source": []
  }
 ],
 "metadata": {
  "language_info": {
   "name": "python"
  }
 },
 "nbformat": 4,
 "nbformat_minor": 5
}
